{
 "cells": [
  {
   "cell_type": "code",
   "execution_count": 4,
   "metadata": {},
   "outputs": [],
   "source": [
    "import matplotlib.pyplot as plt\n",
    "import numpy as np\n",
    "import os\n",
    "import pandas as pd\n",
    "import seaborn as sns\n",
    "import datetime\n",
    "%matplotlib inline\n",
    "%config InlineBackend.figure_format = 'retina'  # Higher resolution figures"
   ]
  },
  {
   "cell_type": "code",
   "execution_count": 30,
   "metadata": {},
   "outputs": [],
   "source": [
    "from sklearn.linear_model import LinearRegression\n",
    "from sklearn.preprocessing import FunctionTransformer\n",
    "from sklearn.preprocessing import OneHotEncoder\n",
    "from sklearn.pipeline import Pipeline\n",
    "from sklearn.compose import ColumnTransformer\n",
    "from sklearn.preprocessing import StandardScaler\n",
    "\n",
    "from sklearn.tree import DecisionTreeRegressor\n",
    "from sklearn.model_selection import train_test_split\n",
    "from sklearn.ensemble import RandomForestClassifier\n",
    "from sklearn.decomposition import PCA\n",
    "from sklearn.impute import SimpleImputer\n",
    "from sklearn.model_selection import GridSearchCV\n",
    "from sklearn.ensemble import RandomForestRegressor"
   ]
  },
  {
   "cell_type": "markdown",
   "metadata": {},
   "source": [
    "### Baseline Model"
   ]
  },
  {
   "cell_type": "code",
   "execution_count": 6,
   "metadata": {},
   "outputs": [
    {
     "data": {
      "text/html": [
       "<div>\n",
       "<style scoped>\n",
       "    .dataframe tbody tr th:only-of-type {\n",
       "        vertical-align: middle;\n",
       "    }\n",
       "\n",
       "    .dataframe tbody tr th {\n",
       "        vertical-align: top;\n",
       "    }\n",
       "\n",
       "    .dataframe thead th {\n",
       "        text-align: right;\n",
       "    }\n",
       "</style>\n",
       "<table border=\"1\" class=\"dataframe\">\n",
       "  <thead>\n",
       "    <tr style=\"text-align: right;\">\n",
       "      <th></th>\n",
       "      <th>ADID</th>\n",
       "      <th>CreativeUrl</th>\n",
       "      <th>Spend</th>\n",
       "      <th>Impressions</th>\n",
       "      <th>StartDate</th>\n",
       "      <th>EndDate</th>\n",
       "      <th>OrganizationName</th>\n",
       "      <th>BillingAddress</th>\n",
       "      <th>CandidateBallotInformation</th>\n",
       "      <th>PayingAdvertiserName</th>\n",
       "      <th>...</th>\n",
       "      <th>Interests</th>\n",
       "      <th>OsType</th>\n",
       "      <th>Segments</th>\n",
       "      <th>LocationType</th>\n",
       "      <th>Language</th>\n",
       "      <th>AdvancedDemographics</th>\n",
       "      <th>Targeting Connection Type</th>\n",
       "      <th>Targeting Carrier (ISP)</th>\n",
       "      <th>Targeting Geo - Postal Code</th>\n",
       "      <th>CreativeProperties</th>\n",
       "    </tr>\n",
       "  </thead>\n",
       "  <tbody>\n",
       "    <tr>\n",
       "      <th>0</th>\n",
       "      <td>71ba5248cc7e9ef5c0ed69188f3e7f8b5f363595a6466f...</td>\n",
       "      <td>https://www.snap.com/political-ads/asset/0f662...</td>\n",
       "      <td>19566</td>\n",
       "      <td>3666639</td>\n",
       "      <td>2019/10/23 13:00:00Z</td>\n",
       "      <td>2019/11/16 07:59:52Z</td>\n",
       "      <td>Mediavest Spark</td>\n",
       "      <td>375 Hudson Street     Attention: Mailroom,New ...</td>\n",
       "      <td>NaN</td>\n",
       "      <td>Recreational Equipment, Inc.</td>\n",
       "      <td>...</td>\n",
       "      <td>NaN</td>\n",
       "      <td>NaN</td>\n",
       "      <td>NaN</td>\n",
       "      <td>NaN</td>\n",
       "      <td>NaN</td>\n",
       "      <td>NaN</td>\n",
       "      <td>NaN</td>\n",
       "      <td>NaN</td>\n",
       "      <td>NaN</td>\n",
       "      <td>web_view_url:https://ad.doubleclick.net/ddm/tr...</td>\n",
       "    </tr>\n",
       "    <tr>\n",
       "      <th>1</th>\n",
       "      <td>54f4ef6c68ed7b24cee50bfb4a25a606ee068a15dcd466...</td>\n",
       "      <td>https://www.snap.com/political-ads/asset/64bab...</td>\n",
       "      <td>78</td>\n",
       "      <td>24404</td>\n",
       "      <td>2019/09/04 22:42:26Z</td>\n",
       "      <td>NaN</td>\n",
       "      <td>Chong and Koster</td>\n",
       "      <td>1640 Rhode Island Ave. NW, Suite 600,Washingto...</td>\n",
       "      <td>NaN</td>\n",
       "      <td>Voter Participation Center</td>\n",
       "      <td>...</td>\n",
       "      <td>NaN</td>\n",
       "      <td>NaN</td>\n",
       "      <td>NaN</td>\n",
       "      <td>NaN</td>\n",
       "      <td>NaN</td>\n",
       "      <td>NaN</td>\n",
       "      <td>NaN</td>\n",
       "      <td>NaN</td>\n",
       "      <td>42334,41052,40363,40110,41135,40473,41426,4074...</td>\n",
       "      <td>web_view_url:https://register2.rockthevote.com...</td>\n",
       "    </tr>\n",
       "    <tr>\n",
       "      <th>2</th>\n",
       "      <td>36cc255995c16a5dc8002e24c2405db22eca6ccfd00780...</td>\n",
       "      <td>https://www.snap.com/political-ads/asset/61a60...</td>\n",
       "      <td>16</td>\n",
       "      <td>4953</td>\n",
       "      <td>2019/09/19 20:43:21Z</td>\n",
       "      <td>NaN</td>\n",
       "      <td>UnRestrict Minnesota</td>\n",
       "      <td>US</td>\n",
       "      <td>NaN</td>\n",
       "      <td>UnRestrict Minnesota</td>\n",
       "      <td>...</td>\n",
       "      <td>Green Living Enthusiasts,Hipsters &amp; Trendsette...</td>\n",
       "      <td>NaN</td>\n",
       "      <td>Provided by Advertiser</td>\n",
       "      <td>NaN</td>\n",
       "      <td>NaN</td>\n",
       "      <td>NaN</td>\n",
       "      <td>NaN</td>\n",
       "      <td>NaN</td>\n",
       "      <td>NaN</td>\n",
       "      <td>web_view_url:https://unrestrictmn.org/?utm_sou...</td>\n",
       "    </tr>\n",
       "    <tr>\n",
       "      <th>3</th>\n",
       "      <td>bd2e584d6bb99df611aaee731c8ee9335971c16115c119...</td>\n",
       "      <td>https://www.snap.com/political-ads/asset/8d722...</td>\n",
       "      <td>12</td>\n",
       "      <td>1694</td>\n",
       "      <td>2019/09/24 04:00:00Z</td>\n",
       "      <td>2019/10/16 03:59:59Z</td>\n",
       "      <td>ACRONYM</td>\n",
       "      <td>US</td>\n",
       "      <td>Register to Vote</td>\n",
       "      <td>ACRONYM</td>\n",
       "      <td>...</td>\n",
       "      <td>NaN</td>\n",
       "      <td>NaN</td>\n",
       "      <td>NaN</td>\n",
       "      <td>NaN</td>\n",
       "      <td>NaN</td>\n",
       "      <td>NaN</td>\n",
       "      <td>NaN</td>\n",
       "      <td>NaN</td>\n",
       "      <td>NaN</td>\n",
       "      <td>web_view_url:https://www.peoplespowergrab.org/...</td>\n",
       "    </tr>\n",
       "    <tr>\n",
       "      <th>4</th>\n",
       "      <td>8ea74b355f848ecf46376d92dcb70675cfd93ca7990377...</td>\n",
       "      <td>https://www.snap.com/political-ads/asset/6bac9...</td>\n",
       "      <td>99</td>\n",
       "      <td>61299</td>\n",
       "      <td>2019/05/06 12:07:38Z</td>\n",
       "      <td>2019/05/26 15:29:12Z</td>\n",
       "      <td>Xaxis Light Reaction Austria</td>\n",
       "      <td>Vordere Zollamtsstraße 13/7,Vienna,1030,AT</td>\n",
       "      <td>NaN</td>\n",
       "      <td>SPÖ</td>\n",
       "      <td>...</td>\n",
       "      <td>NaN</td>\n",
       "      <td>NaN</td>\n",
       "      <td>Provided by Advertiser</td>\n",
       "      <td>NaN</td>\n",
       "      <td>NaN</td>\n",
       "      <td>NaN</td>\n",
       "      <td>NaN</td>\n",
       "      <td>NaN</td>\n",
       "      <td>NaN</td>\n",
       "      <td>NaN</td>\n",
       "    </tr>\n",
       "  </tbody>\n",
       "</table>\n",
       "<p>5 rows × 27 columns</p>\n",
       "</div>"
      ],
      "text/plain": [
       "                                                ADID  \\\n",
       "0  71ba5248cc7e9ef5c0ed69188f3e7f8b5f363595a6466f...   \n",
       "1  54f4ef6c68ed7b24cee50bfb4a25a606ee068a15dcd466...   \n",
       "2  36cc255995c16a5dc8002e24c2405db22eca6ccfd00780...   \n",
       "3  bd2e584d6bb99df611aaee731c8ee9335971c16115c119...   \n",
       "4  8ea74b355f848ecf46376d92dcb70675cfd93ca7990377...   \n",
       "\n",
       "                                         CreativeUrl  Spend  Impressions  \\\n",
       "0  https://www.snap.com/political-ads/asset/0f662...  19566      3666639   \n",
       "1  https://www.snap.com/political-ads/asset/64bab...     78        24404   \n",
       "2  https://www.snap.com/political-ads/asset/61a60...     16         4953   \n",
       "3  https://www.snap.com/political-ads/asset/8d722...     12         1694   \n",
       "4  https://www.snap.com/political-ads/asset/6bac9...     99        61299   \n",
       "\n",
       "              StartDate               EndDate              OrganizationName  \\\n",
       "0  2019/10/23 13:00:00Z  2019/11/16 07:59:52Z               Mediavest Spark   \n",
       "1  2019/09/04 22:42:26Z                   NaN              Chong and Koster   \n",
       "2  2019/09/19 20:43:21Z                   NaN          UnRestrict Minnesota   \n",
       "3  2019/09/24 04:00:00Z  2019/10/16 03:59:59Z                       ACRONYM   \n",
       "4  2019/05/06 12:07:38Z  2019/05/26 15:29:12Z  Xaxis Light Reaction Austria   \n",
       "\n",
       "                                      BillingAddress  \\\n",
       "0  375 Hudson Street     Attention: Mailroom,New ...   \n",
       "1  1640 Rhode Island Ave. NW, Suite 600,Washingto...   \n",
       "2                                                 US   \n",
       "3                                                 US   \n",
       "4         Vordere Zollamtsstraße 13/7,Vienna,1030,AT   \n",
       "\n",
       "  CandidateBallotInformation          PayingAdvertiserName  ...  \\\n",
       "0                        NaN  Recreational Equipment, Inc.  ...   \n",
       "1                        NaN    Voter Participation Center  ...   \n",
       "2                        NaN          UnRestrict Minnesota  ...   \n",
       "3           Register to Vote                       ACRONYM  ...   \n",
       "4                        NaN                           SPÖ  ...   \n",
       "\n",
       "                                           Interests OsType  \\\n",
       "0                                                NaN    NaN   \n",
       "1                                                NaN    NaN   \n",
       "2  Green Living Enthusiasts,Hipsters & Trendsette...    NaN   \n",
       "3                                                NaN    NaN   \n",
       "4                                                NaN    NaN   \n",
       "\n",
       "                 Segments LocationType Language  AdvancedDemographics  \\\n",
       "0                     NaN          NaN      NaN                   NaN   \n",
       "1                     NaN          NaN      NaN                   NaN   \n",
       "2  Provided by Advertiser          NaN      NaN                   NaN   \n",
       "3                     NaN          NaN      NaN                   NaN   \n",
       "4  Provided by Advertiser          NaN      NaN                   NaN   \n",
       "\n",
       "  Targeting Connection Type Targeting Carrier (ISP)  \\\n",
       "0                       NaN                     NaN   \n",
       "1                       NaN                     NaN   \n",
       "2                       NaN                     NaN   \n",
       "3                       NaN                     NaN   \n",
       "4                       NaN                     NaN   \n",
       "\n",
       "                         Targeting Geo - Postal Code  \\\n",
       "0                                                NaN   \n",
       "1  42334,41052,40363,40110,41135,40473,41426,4074...   \n",
       "2                                                NaN   \n",
       "3                                                NaN   \n",
       "4                                                NaN   \n",
       "\n",
       "                                  CreativeProperties  \n",
       "0  web_view_url:https://ad.doubleclick.net/ddm/tr...  \n",
       "1  web_view_url:https://register2.rockthevote.com...  \n",
       "2  web_view_url:https://unrestrictmn.org/?utm_sou...  \n",
       "3  web_view_url:https://www.peoplespowergrab.org/...  \n",
       "4                                                NaN  \n",
       "\n",
       "[5 rows x 27 columns]"
      ]
     },
     "execution_count": 6,
     "metadata": {},
     "output_type": "execute_result"
    }
   ],
   "source": [
    "# First let's read in both of the dfs\n",
    "df_2018 = pd.read_csv('PoliticalAds2018.csv')\n",
    "df_2019 = pd.read_csv('PoliticalAds2019.csv')\n",
    "# Now to concat them\n",
    "data = pd.concat([df_2019, df_2018])\n",
    "data.head()"
   ]
  },
  {
   "cell_type": "markdown",
   "metadata": {},
   "source": [
    "First, we will clean the initial dataset."
   ]
  },
  {
   "cell_type": "code",
   "execution_count": 7,
   "metadata": {},
   "outputs": [],
   "source": [
    "def preprocess(df):\n",
    "    # Create a copy to be safe\n",
    "    df_copy = df.copy()\n",
    "    \n",
    "    # Before we can even verify if they merged correctly, we need to convert the start and end date to datetime objects\n",
    "    df_copy['StartDate'] = pd.to_datetime(df_copy['StartDate'])\n",
    "    # For End Date, we need to make the NaN values the time we downloaded the file, as it is subject to change if we run this at a later time\n",
    "    download_date = \"2019/11/04 18:31:00Z\"\n",
    "    df_copy['EndDate'] = pd.to_datetime(df_copy['EndDate']).fillna(pd.to_datetime(download_date))\n",
    "    \n",
    "    # Gender column targets all genders if NA\n",
    "    df_copy['Gender'] = df_copy['Gender'].fillna('All')\n",
    "    \n",
    "    # AgeBracket column targets all ages if NA\n",
    "    df_copy['AgeBracket'] = df_copy['AgeBracket'].fillna('All')\n",
    "    \n",
    "    # Interests has a weird concoction of strings, let's make it into a list\n",
    "    df_copy['Interests'] = df_copy['Interests'].apply(\n",
    "        lambda x: x.split(',') if (isinstance(x, str)) else 'All'\n",
    "    )\n",
    "    \n",
    "    # So does Targeting Geo - Postal Code\n",
    "    df_copy['Targeting Geo - Postal Code'] = df_copy['Targeting Geo - Postal Code'].apply(\n",
    "        lambda x: x.split(',') if (isinstance(x, str)) else 'All'\n",
    "    )\n",
    "    \n",
    "    # All other NaNs that are agnostic based on the readme.txt are filled here\n",
    "    df_copy['RegionID'] = df_copy['RegionID'].fillna('All')\n",
    "    df_copy['ElectoralDistrictID'] = df_copy['ElectoralDistrictID'].fillna('All')\n",
    "    df_copy['LatLongRad'] = df_copy['LatLongRad'].fillna('All')\n",
    "    df_copy['MetroID'] = df_copy['MetroID'].fillna('All')\n",
    "    df_copy['OsType'] = df_copy['OsType'].fillna('All')\n",
    "    df_copy['Language'] = df_copy['Language'].fillna('All')\n",
    "    df_copy['AdvancedDemographics'] = df_copy['AdvancedDemographics'].fillna('All')\n",
    "    df_copy['Targeting Connection Type'] = df_copy['Targeting Connection Type'].fillna('All')\n",
    "    df_copy['Targeting Carrier (ISP)'] = df_copy['Targeting Carrier (ISP)'].fillna('All')\n",
    "    \n",
    "    # Modify Segments column so that 'Provided by Advertiser' == 1, na == 0\n",
    "    df_copy[\"Segments\"] = (\n",
    "        df_copy[\"Segments\"]\n",
    "        .fillna(0)\n",
    "        .replace('Provided by Advertiser', 1)\n",
    "    )\n",
    "    \n",
    "    return df_copy"
   ]
  },
  {
   "cell_type": "code",
   "execution_count": 8,
   "metadata": {},
   "outputs": [
    {
     "data": {
      "text/html": [
       "<div>\n",
       "<style scoped>\n",
       "    .dataframe tbody tr th:only-of-type {\n",
       "        vertical-align: middle;\n",
       "    }\n",
       "\n",
       "    .dataframe tbody tr th {\n",
       "        vertical-align: top;\n",
       "    }\n",
       "\n",
       "    .dataframe thead th {\n",
       "        text-align: right;\n",
       "    }\n",
       "</style>\n",
       "<table border=\"1\" class=\"dataframe\">\n",
       "  <thead>\n",
       "    <tr style=\"text-align: right;\">\n",
       "      <th></th>\n",
       "      <th>ADID</th>\n",
       "      <th>CreativeUrl</th>\n",
       "      <th>Spend</th>\n",
       "      <th>Impressions</th>\n",
       "      <th>StartDate</th>\n",
       "      <th>EndDate</th>\n",
       "      <th>OrganizationName</th>\n",
       "      <th>BillingAddress</th>\n",
       "      <th>CandidateBallotInformation</th>\n",
       "      <th>PayingAdvertiserName</th>\n",
       "      <th>...</th>\n",
       "      <th>Interests</th>\n",
       "      <th>OsType</th>\n",
       "      <th>Segments</th>\n",
       "      <th>LocationType</th>\n",
       "      <th>Language</th>\n",
       "      <th>AdvancedDemographics</th>\n",
       "      <th>Targeting Connection Type</th>\n",
       "      <th>Targeting Carrier (ISP)</th>\n",
       "      <th>Targeting Geo - Postal Code</th>\n",
       "      <th>CreativeProperties</th>\n",
       "    </tr>\n",
       "  </thead>\n",
       "  <tbody>\n",
       "    <tr>\n",
       "      <th>0</th>\n",
       "      <td>71ba5248cc7e9ef5c0ed69188f3e7f8b5f363595a6466f...</td>\n",
       "      <td>https://www.snap.com/political-ads/asset/0f662...</td>\n",
       "      <td>19566</td>\n",
       "      <td>3666639</td>\n",
       "      <td>2019-10-23 13:00:00+00:00</td>\n",
       "      <td>2019-11-16 07:59:52+00:00</td>\n",
       "      <td>Mediavest Spark</td>\n",
       "      <td>375 Hudson Street     Attention: Mailroom,New ...</td>\n",
       "      <td>NaN</td>\n",
       "      <td>Recreational Equipment, Inc.</td>\n",
       "      <td>...</td>\n",
       "      <td>All</td>\n",
       "      <td>All</td>\n",
       "      <td>0</td>\n",
       "      <td>NaN</td>\n",
       "      <td>All</td>\n",
       "      <td>All</td>\n",
       "      <td>All</td>\n",
       "      <td>All</td>\n",
       "      <td>All</td>\n",
       "      <td>web_view_url:https://ad.doubleclick.net/ddm/tr...</td>\n",
       "    </tr>\n",
       "    <tr>\n",
       "      <th>1</th>\n",
       "      <td>54f4ef6c68ed7b24cee50bfb4a25a606ee068a15dcd466...</td>\n",
       "      <td>https://www.snap.com/political-ads/asset/64bab...</td>\n",
       "      <td>78</td>\n",
       "      <td>24404</td>\n",
       "      <td>2019-09-04 22:42:26+00:00</td>\n",
       "      <td>2019-11-04 18:31:00+00:00</td>\n",
       "      <td>Chong and Koster</td>\n",
       "      <td>1640 Rhode Island Ave. NW, Suite 600,Washingto...</td>\n",
       "      <td>NaN</td>\n",
       "      <td>Voter Participation Center</td>\n",
       "      <td>...</td>\n",
       "      <td>All</td>\n",
       "      <td>All</td>\n",
       "      <td>0</td>\n",
       "      <td>NaN</td>\n",
       "      <td>All</td>\n",
       "      <td>All</td>\n",
       "      <td>All</td>\n",
       "      <td>All</td>\n",
       "      <td>[42334, 41052, 40363, 40110, 41135, 40473, 414...</td>\n",
       "      <td>web_view_url:https://register2.rockthevote.com...</td>\n",
       "    </tr>\n",
       "    <tr>\n",
       "      <th>2</th>\n",
       "      <td>36cc255995c16a5dc8002e24c2405db22eca6ccfd00780...</td>\n",
       "      <td>https://www.snap.com/political-ads/asset/61a60...</td>\n",
       "      <td>16</td>\n",
       "      <td>4953</td>\n",
       "      <td>2019-09-19 20:43:21+00:00</td>\n",
       "      <td>2019-11-04 18:31:00+00:00</td>\n",
       "      <td>UnRestrict Minnesota</td>\n",
       "      <td>US</td>\n",
       "      <td>NaN</td>\n",
       "      <td>UnRestrict Minnesota</td>\n",
       "      <td>...</td>\n",
       "      <td>[Green Living Enthusiasts, Hipsters &amp; Trendset...</td>\n",
       "      <td>All</td>\n",
       "      <td>1</td>\n",
       "      <td>NaN</td>\n",
       "      <td>All</td>\n",
       "      <td>All</td>\n",
       "      <td>All</td>\n",
       "      <td>All</td>\n",
       "      <td>All</td>\n",
       "      <td>web_view_url:https://unrestrictmn.org/?utm_sou...</td>\n",
       "    </tr>\n",
       "    <tr>\n",
       "      <th>3</th>\n",
       "      <td>bd2e584d6bb99df611aaee731c8ee9335971c16115c119...</td>\n",
       "      <td>https://www.snap.com/political-ads/asset/8d722...</td>\n",
       "      <td>12</td>\n",
       "      <td>1694</td>\n",
       "      <td>2019-09-24 04:00:00+00:00</td>\n",
       "      <td>2019-10-16 03:59:59+00:00</td>\n",
       "      <td>ACRONYM</td>\n",
       "      <td>US</td>\n",
       "      <td>Register to Vote</td>\n",
       "      <td>ACRONYM</td>\n",
       "      <td>...</td>\n",
       "      <td>All</td>\n",
       "      <td>All</td>\n",
       "      <td>0</td>\n",
       "      <td>NaN</td>\n",
       "      <td>All</td>\n",
       "      <td>All</td>\n",
       "      <td>All</td>\n",
       "      <td>All</td>\n",
       "      <td>All</td>\n",
       "      <td>web_view_url:https://www.peoplespowergrab.org/...</td>\n",
       "    </tr>\n",
       "    <tr>\n",
       "      <th>4</th>\n",
       "      <td>8ea74b355f848ecf46376d92dcb70675cfd93ca7990377...</td>\n",
       "      <td>https://www.snap.com/political-ads/asset/6bac9...</td>\n",
       "      <td>99</td>\n",
       "      <td>61299</td>\n",
       "      <td>2019-05-06 12:07:38+00:00</td>\n",
       "      <td>2019-05-26 15:29:12+00:00</td>\n",
       "      <td>Xaxis Light Reaction Austria</td>\n",
       "      <td>Vordere Zollamtsstraße 13/7,Vienna,1030,AT</td>\n",
       "      <td>NaN</td>\n",
       "      <td>SPÖ</td>\n",
       "      <td>...</td>\n",
       "      <td>All</td>\n",
       "      <td>All</td>\n",
       "      <td>1</td>\n",
       "      <td>NaN</td>\n",
       "      <td>All</td>\n",
       "      <td>All</td>\n",
       "      <td>All</td>\n",
       "      <td>All</td>\n",
       "      <td>All</td>\n",
       "      <td>NaN</td>\n",
       "    </tr>\n",
       "  </tbody>\n",
       "</table>\n",
       "<p>5 rows × 27 columns</p>\n",
       "</div>"
      ],
      "text/plain": [
       "                                                ADID  \\\n",
       "0  71ba5248cc7e9ef5c0ed69188f3e7f8b5f363595a6466f...   \n",
       "1  54f4ef6c68ed7b24cee50bfb4a25a606ee068a15dcd466...   \n",
       "2  36cc255995c16a5dc8002e24c2405db22eca6ccfd00780...   \n",
       "3  bd2e584d6bb99df611aaee731c8ee9335971c16115c119...   \n",
       "4  8ea74b355f848ecf46376d92dcb70675cfd93ca7990377...   \n",
       "\n",
       "                                         CreativeUrl  Spend  Impressions  \\\n",
       "0  https://www.snap.com/political-ads/asset/0f662...  19566      3666639   \n",
       "1  https://www.snap.com/political-ads/asset/64bab...     78        24404   \n",
       "2  https://www.snap.com/political-ads/asset/61a60...     16         4953   \n",
       "3  https://www.snap.com/political-ads/asset/8d722...     12         1694   \n",
       "4  https://www.snap.com/political-ads/asset/6bac9...     99        61299   \n",
       "\n",
       "                  StartDate                   EndDate  \\\n",
       "0 2019-10-23 13:00:00+00:00 2019-11-16 07:59:52+00:00   \n",
       "1 2019-09-04 22:42:26+00:00 2019-11-04 18:31:00+00:00   \n",
       "2 2019-09-19 20:43:21+00:00 2019-11-04 18:31:00+00:00   \n",
       "3 2019-09-24 04:00:00+00:00 2019-10-16 03:59:59+00:00   \n",
       "4 2019-05-06 12:07:38+00:00 2019-05-26 15:29:12+00:00   \n",
       "\n",
       "               OrganizationName  \\\n",
       "0               Mediavest Spark   \n",
       "1              Chong and Koster   \n",
       "2          UnRestrict Minnesota   \n",
       "3                       ACRONYM   \n",
       "4  Xaxis Light Reaction Austria   \n",
       "\n",
       "                                      BillingAddress  \\\n",
       "0  375 Hudson Street     Attention: Mailroom,New ...   \n",
       "1  1640 Rhode Island Ave. NW, Suite 600,Washingto...   \n",
       "2                                                 US   \n",
       "3                                                 US   \n",
       "4         Vordere Zollamtsstraße 13/7,Vienna,1030,AT   \n",
       "\n",
       "  CandidateBallotInformation          PayingAdvertiserName  ...  \\\n",
       "0                        NaN  Recreational Equipment, Inc.  ...   \n",
       "1                        NaN    Voter Participation Center  ...   \n",
       "2                        NaN          UnRestrict Minnesota  ...   \n",
       "3           Register to Vote                       ACRONYM  ...   \n",
       "4                        NaN                           SPÖ  ...   \n",
       "\n",
       "                                           Interests OsType Segments  \\\n",
       "0                                                All    All        0   \n",
       "1                                                All    All        0   \n",
       "2  [Green Living Enthusiasts, Hipsters & Trendset...    All        1   \n",
       "3                                                All    All        0   \n",
       "4                                                All    All        1   \n",
       "\n",
       "  LocationType Language AdvancedDemographics Targeting Connection Type  \\\n",
       "0          NaN      All                  All                       All   \n",
       "1          NaN      All                  All                       All   \n",
       "2          NaN      All                  All                       All   \n",
       "3          NaN      All                  All                       All   \n",
       "4          NaN      All                  All                       All   \n",
       "\n",
       "  Targeting Carrier (ISP)                        Targeting Geo - Postal Code  \\\n",
       "0                     All                                                All   \n",
       "1                     All  [42334, 41052, 40363, 40110, 41135, 40473, 414...   \n",
       "2                     All                                                All   \n",
       "3                     All                                                All   \n",
       "4                     All                                                All   \n",
       "\n",
       "                                  CreativeProperties  \n",
       "0  web_view_url:https://ad.doubleclick.net/ddm/tr...  \n",
       "1  web_view_url:https://register2.rockthevote.com...  \n",
       "2  web_view_url:https://unrestrictmn.org/?utm_sou...  \n",
       "3  web_view_url:https://www.peoplespowergrab.org/...  \n",
       "4                                                NaN  \n",
       "\n",
       "[5 rows x 27 columns]"
      ]
     },
     "execution_count": 8,
     "metadata": {},
     "output_type": "execute_result"
    }
   ],
   "source": [
    "data = preprocess(data)\n",
    "data.head()"
   ]
  },
  {
   "cell_type": "markdown",
   "metadata": {},
   "source": [
    "Now for the baseline model! "
   ]
  },
  {
   "cell_type": "code",
   "execution_count": 9,
   "metadata": {},
   "outputs": [],
   "source": [
    "X_bs = data.drop(['Interests', 'AgeBracket', 'Targeting Geo - Postal Code', \"StartDate\", \"EndDate\", \"CreativeProperties\", \"ADID\", \"CreativeUrl\", \"Impressions\"], axis=1)\n",
    "#X_bs = data.drop([\"Impressions\"], axis=1)\n",
    "y_bs = data['Impressions']"
   ]
  },
  {
   "cell_type": "markdown",
   "metadata": {},
   "source": [
    "First, we can to separate our categorical columns from our numerical columns. Then we can One Hot Encode the categoricals, imputing with null, and use StandardScaler for the numerical columns."
   ]
  },
  {
   "cell_type": "code",
   "execution_count": 10,
   "metadata": {},
   "outputs": [],
   "source": [
    "types = X_bs.dtypes\n",
    "catcols_bs = types.loc[types == np.object].index\n",
    "numcols_bs = types.loc[types != np.object].index"
   ]
  },
  {
   "cell_type": "code",
   "execution_count": 13,
   "metadata": {},
   "outputs": [],
   "source": [
    "cats_bs = Pipeline([\n",
    "    ('imp', SimpleImputer(strategy='constant', fill_value='NULL')),\n",
    "    ('ohe', OneHotEncoder(handle_unknown='ignore', sparse=False)),\n",
    "])\n",
    "\n",
    "spend_bs = Pipeline([('std', StandardScaler())])\n",
    "\n",
    "ct_bs = ColumnTransformer([\n",
    "    ('catcols', cats_bs, catcols_bs),\n",
    "    ('numcols', spend_bs, numcols_bs)\n",
    "])\n",
    "\n",
    "pl2 = Pipeline([('feats', ct_bs), ('reg', LinearRegression())])"
   ]
  },
  {
   "cell_type": "code",
   "execution_count": 15,
   "metadata": {},
   "outputs": [
    {
     "data": {
      "text/plain": [
       "1.0173893485445947e+17"
      ]
     },
     "execution_count": 15,
     "metadata": {},
     "output_type": "execute_result"
    }
   ],
   "source": [
    "X_tr_bs, X_ts_bs, y_tr_bs, y_ts_bs = train_test_split(X_bs, y_bs, test_size=0.30)\n",
    "pl2.fit(X_tr_bs, y_tr_bs)\n",
    "pred = pl2.predict(X_ts_bs)\n",
    "np.sqrt(np.mean(pred - y_ts_bs)**2)"
   ]
  },
  {
   "cell_type": "markdown",
   "metadata": {},
   "source": [
    "Now we can find the mean RMSE!"
   ]
  },
  {
   "cell_type": "code",
   "execution_count": 17,
   "metadata": {},
   "outputs": [],
   "source": [
    "rmse_ls_bs = []\n",
    "for i in range(50):\n",
    "    X_tr_bs, X_ts_bs, y_tr_bs, y_ts_bs = train_test_split(X_bs, y_bs, test_size=0.30)\n",
    "    pl2.fit(X_tr_bs, y_tr_bs)\n",
    "    pred = pl2.predict(X_ts_bs)\n",
    "    rmse = np.sqrt(np.mean(pred - y_ts_bs)**2)\n",
    "    rmse_ls_bs.append(rmse)"
   ]
  },
  {
   "cell_type": "code",
   "execution_count": 18,
   "metadata": {},
   "outputs": [
    {
     "data": {
      "text/plain": [
       "8.838133907944307e+16"
      ]
     },
     "execution_count": 18,
     "metadata": {},
     "output_type": "execute_result"
    }
   ],
   "source": [
    "np.mean(rmse_ls_bs)"
   ]
  },
  {
   "cell_type": "code",
   "execution_count": null,
   "metadata": {},
   "outputs": [],
   "source": []
  },
  {
   "cell_type": "markdown",
   "metadata": {},
   "source": [
    "### Final Model"
   ]
  },
  {
   "cell_type": "code",
   "execution_count": 19,
   "metadata": {},
   "outputs": [],
   "source": [
    "df = data.copy()"
   ]
  },
  {
   "cell_type": "markdown",
   "metadata": {},
   "source": [
    "Now we're going to construct two features! The first feature utilizes BillingAddress to find out the country of origin, and the second utilizes StartDate and EndDate to find the duration the ad was shown."
   ]
  },
  {
   "cell_type": "code",
   "execution_count": 20,
   "metadata": {},
   "outputs": [],
   "source": [
    "df[\"OriginCountry\"] = df[\"BillingAddress\"].str.split(\",\").apply(lambda x: x[-1])\n",
    "df[\"Duration\"] = (df['EndDate'] - df[\"StartDate\"]).apply(lambda x: x.days)"
   ]
  },
  {
   "cell_type": "markdown",
   "metadata": {},
   "source": [
    "First we drop the columns that don't seem too useful. Interests, AgeBracket, Targeting Geo - Postal Code because of the structure that they're formatted in makes it complicated, BillingAddress, CreativeProperties, ADID, and CreativeUrl because they're simply nomitive, and StartDate/EndDate because we created a quantitive feature out of it (that is much more useful!)."
   ]
  },
  {
   "cell_type": "code",
   "execution_count": 21,
   "metadata": {},
   "outputs": [],
   "source": [
    "X = df.drop(['Interests', 'AgeBracket', 'BillingAddress', 'Targeting Geo - Postal Code', \"StartDate\", \"EndDate\", \"CreativeProperties\", \"ADID\", \"CreativeUrl\", \"Impressions\"], axis=1)\n",
    "y = df['Impressions']"
   ]
  },
  {
   "cell_type": "markdown",
   "metadata": {},
   "source": [
    "Then,separate the columns by type -- int or object."
   ]
  },
  {
   "cell_type": "code",
   "execution_count": 22,
   "metadata": {},
   "outputs": [],
   "source": [
    "types = X.dtypes\n",
    "catcols = types.loc[types == np.object].index\n",
    "numcols = types.loc[types != np.object].index"
   ]
  },
  {
   "cell_type": "markdown",
   "metadata": {},
   "source": [
    "Now we're just going to try our original Pipeline again, with our new features! I used the same methods/transformers with our new features included as above, because sometimes it's better to keep it simple!"
   ]
  },
  {
   "cell_type": "code",
   "execution_count": 23,
   "metadata": {},
   "outputs": [],
   "source": [
    "cats_draft = Pipeline([\n",
    "    ('imp', SimpleImputer(strategy='constant', fill_value='NULL')),\n",
    "    ('ohe', OneHotEncoder(handle_unknown='ignore', sparse=False)),\n",
    "])\n",
    "\n",
    "spend_draft = Pipeline([('std', StandardScaler())])\n",
    "\n",
    "ct_draft = ColumnTransformer([\n",
    "    ('catcols', cats_draft, catcols),\n",
    "    ('numcols', spend_draft, numcols)\n",
    "])\n",
    "\n",
    "pl_draft = Pipeline([('feats', ct_draft), ('reg', LinearRegression())])"
   ]
  },
  {
   "cell_type": "code",
   "execution_count": 25,
   "metadata": {},
   "outputs": [],
   "source": [
    "rmse_draft = []\n",
    "for i in range(50):\n",
    "    X_tr, X_ts, y_tr, y_ts = train_test_split(X, y, test_size=0.30)\n",
    "\n",
    "    pl_draft.fit(X_tr, y_tr)\n",
    "    #pl.score(X_ts, y_ts)\n",
    "\n",
    "    preds = pl_draft.predict(X_ts)\n",
    "    rmse = np.sqrt(np.mean(preds - y_ts)**2)\n",
    "    rmse_draft.append(rmse)"
   ]
  },
  {
   "cell_type": "code",
   "execution_count": 26,
   "metadata": {},
   "outputs": [
    {
     "data": {
      "text/plain": [
       "6.93013844330038e+16"
      ]
     },
     "execution_count": 26,
     "metadata": {},
     "output_type": "execute_result"
    }
   ],
   "source": [
    "np.mean(rmse_draft)"
   ]
  },
  {
   "cell_type": "markdown",
   "metadata": {},
   "source": [
    "Let's see if the RandomForestRegressor model is better now, instead of LinearRegression."
   ]
  },
  {
   "cell_type": "code",
   "execution_count": 31,
   "metadata": {},
   "outputs": [],
   "source": [
    "cats = Pipeline([\n",
    "    ('imp', SimpleImputer(strategy='constant', fill_value='NULL')),\n",
    "    ('ohe', OneHotEncoder(handle_unknown='ignore', sparse=False)),\n",
    "])\n",
    "\n",
    "spend = Pipeline([('std', StandardScaler())])\n",
    "\n",
    "ct = ColumnTransformer([\n",
    "    ('catcols', cats, catcols),\n",
    "    ('numcols', spend, numcols)\n",
    "])\n",
    "\n",
    "pl = Pipeline([('feats', ct), ('reg', RandomForestRegressor(n_estimators=10))])"
   ]
  },
  {
   "cell_type": "code",
   "execution_count": 32,
   "metadata": {},
   "outputs": [
    {
     "data": {
      "text/plain": [
       "Pipeline(memory=None,\n",
       "         steps=[('feats',\n",
       "                 ColumnTransformer(n_jobs=None, remainder='drop',\n",
       "                                   sparse_threshold=0.3,\n",
       "                                   transformer_weights=None,\n",
       "                                   transformers=[('catcols',\n",
       "                                                  Pipeline(memory=None,\n",
       "                                                           steps=[('imp',\n",
       "                                                                   SimpleImputer(add_indicator=False,\n",
       "                                                                                 copy=True,\n",
       "                                                                                 fill_value='NULL',\n",
       "                                                                                 missing_values=nan,\n",
       "                                                                                 strategy='constant',\n",
       "                                                                                 verbose=0)),\n",
       "                                                                  ('ohe',\n",
       "                                                                   OneHotEncoder(categorical_features=None,...\n",
       "                                   verbose=False)),\n",
       "                ('reg',\n",
       "                 RandomForestRegressor(bootstrap=True, criterion='mse',\n",
       "                                       max_depth=None, max_features='auto',\n",
       "                                       max_leaf_nodes=None,\n",
       "                                       min_impurity_decrease=0.0,\n",
       "                                       min_impurity_split=None,\n",
       "                                       min_samples_leaf=1, min_samples_split=2,\n",
       "                                       min_weight_fraction_leaf=0.0,\n",
       "                                       n_estimators=10, n_jobs=None,\n",
       "                                       oob_score=False, random_state=None,\n",
       "                                       verbose=0, warm_start=False))],\n",
       "         verbose=False)"
      ]
     },
     "execution_count": 32,
     "metadata": {},
     "output_type": "execute_result"
    }
   ],
   "source": [
    "pl.fit(X_tr, y_tr)"
   ]
  },
  {
   "cell_type": "markdown",
   "metadata": {},
   "source": [
    "Then, we calculated the RMSE again in a loop, and then found the average."
   ]
  },
  {
   "cell_type": "code",
   "execution_count": 33,
   "metadata": {},
   "outputs": [],
   "source": [
    "rmse_ls = []\n",
    "for i in range(50):\n",
    "    X_tr, X_ts, y_tr, y_ts = train_test_split(X, y, test_size=0.30)\n",
    "\n",
    "    pl.fit(X_tr, y_tr)\n",
    "    #pl.score(X_ts, y_ts)\n",
    "\n",
    "    preds = pl.predict(X_ts)\n",
    "    rmse = np.sqrt(np.mean(preds - y_ts)**2)\n",
    "    rmse_ls.append(rmse)"
   ]
  },
  {
   "cell_type": "code",
   "execution_count": 34,
   "metadata": {},
   "outputs": [
    {
     "data": {
      "text/plain": [
       "83075.92048782045"
      ]
     },
     "execution_count": 34,
     "metadata": {},
     "output_type": "execute_result"
    }
   ],
   "source": [
    "np.mean(rmse_ls)"
   ]
  },
  {
   "cell_type": "markdown",
   "metadata": {},
   "source": [
    "Wow that's pretty good, and after a running this multiple times, RandomForestRegressor seems consistently better than LinearRegressor! Should we keep going?\n",
    "\n",
    "RandomForestRegressor works with a nifty tool called GridSearchCV. Through this function, we can determine the best parameters for our RandomForestRegressor!"
   ]
  },
  {
   "cell_type": "code",
   "execution_count": 35,
   "metadata": {},
   "outputs": [],
   "source": [
    "fit = pl.fit(X_tr, y_tr)\n",
    "fit[\"reg\"]\n",
    "\n",
    "parameters = {'n_estimators': [10, 30], 'max_depth': [None, 1, 2, 4, 8], 'min_samples_split': [2, 3, 5]}\n",
    "clf = GridSearchCV(fit[\"reg\"], parameters, cv=5, verbose=1, refit=True)"
   ]
  },
  {
   "cell_type": "code",
   "execution_count": 36,
   "metadata": {},
   "outputs": [
    {
     "name": "stdout",
     "output_type": "stream",
     "text": [
      "Fitting 5 folds for each of 30 candidates, totalling 150 fits\n"
     ]
    },
    {
     "name": "stderr",
     "output_type": "stream",
     "text": [
      "[Parallel(n_jobs=1)]: Using backend SequentialBackend with 1 concurrent workers.\n",
      "[Parallel(n_jobs=1)]: Done 150 out of 150 | elapsed:    4.1s finished\n",
      "//anaconda3/lib/python3.7/site-packages/sklearn/model_selection/_search.py:813: DeprecationWarning: The default of the `iid` parameter will change from True to False in version 0.22 and will be removed in 0.24. This will change numeric results when test-set sizes are unequal.\n",
      "  DeprecationWarning)\n"
     ]
    },
    {
     "data": {
      "text/plain": [
       "GridSearchCV(cv=5, error_score='raise-deprecating',\n",
       "             estimator=RandomForestRegressor(bootstrap=True, criterion='mse',\n",
       "                                             max_depth=None,\n",
       "                                             max_features='auto',\n",
       "                                             max_leaf_nodes=None,\n",
       "                                             min_impurity_decrease=0.0,\n",
       "                                             min_impurity_split=None,\n",
       "                                             min_samples_leaf=1,\n",
       "                                             min_samples_split=2,\n",
       "                                             min_weight_fraction_leaf=0.0,\n",
       "                                             n_estimators=10, n_jobs=None,\n",
       "                                             oob_score=False, random_state=None,\n",
       "                                             verbose=0, warm_start=False),\n",
       "             iid='warn', n_jobs=None,\n",
       "             param_grid={'max_depth': [None, 1, 2, 4, 8],\n",
       "                         'min_samples_split': [2, 3, 5],\n",
       "                         'n_estimators': [10, 30]},\n",
       "             pre_dispatch='2*n_jobs', refit=True, return_train_score=False,\n",
       "             scoring=None, verbose=1)"
      ]
     },
     "execution_count": 36,
     "metadata": {},
     "output_type": "execute_result"
    }
   ],
   "source": [
    "clf.fit(X_tr[[\"Spend\", \"Duration\"]], y_tr)"
   ]
  },
  {
   "cell_type": "code",
   "execution_count": 37,
   "metadata": {},
   "outputs": [
    {
     "data": {
      "text/plain": [
       "{'max_depth': 2, 'min_samples_split': 5, 'n_estimators': 30}"
      ]
     },
     "execution_count": 37,
     "metadata": {},
     "output_type": "execute_result"
    }
   ],
   "source": [
    "clf.best_params_"
   ]
  },
  {
   "cell_type": "code",
   "execution_count": 38,
   "metadata": {},
   "outputs": [],
   "source": [
    "cats = Pipeline([\n",
    "    ('imp', SimpleImputer(strategy='constant', fill_value='NULL')),\n",
    "    ('ohe', OneHotEncoder(handle_unknown='ignore', sparse=False)),\n",
    "])\n",
    "\n",
    "spend = Pipeline([('std', StandardScaler())])\n",
    "\n",
    "ct = ColumnTransformer([\n",
    "    ('catcols', cats, catcols),\n",
    "    ('numcols', spend, numcols)\n",
    "])\n",
    "\n",
    "pl_gs = Pipeline([('feats', ct), ('reg', RandomForestRegressor(n_estimators=10, max_depth=4, min_samples_split= 3))])"
   ]
  },
  {
   "cell_type": "code",
   "execution_count": 39,
   "metadata": {},
   "outputs": [],
   "source": [
    "rmse_ls_gs = []\n",
    "for i in range(50):\n",
    "    X_tr, X_ts, y_tr, y_ts = train_test_split(X, y, test_size=0.30)\n",
    "\n",
    "    pl_gs.fit(X_tr, y_tr)\n",
    "    #pl.score(X_ts, y_ts)\n",
    "\n",
    "    preds = pl.predict(X_ts)\n",
    "    rmse = np.sqrt(np.mean(preds - y_ts)**2)\n",
    "    rmse_ls_gs.append(rmse)"
   ]
  },
  {
   "cell_type": "code",
   "execution_count": 40,
   "metadata": {},
   "outputs": [
    {
     "data": {
      "text/plain": [
       "67653.49503095157"
      ]
     },
     "execution_count": 40,
     "metadata": {},
     "output_type": "execute_result"
    }
   ],
   "source": [
    "np.mean(rmse_ls_gs)"
   ]
  },
  {
   "cell_type": "markdown",
   "metadata": {},
   "source": [
    "Wow! That got significantly better. We're pretty satisfied -- let's keep it."
   ]
  },
  {
   "cell_type": "markdown",
   "metadata": {},
   "source": [
    "### Fairness Evaluation"
   ]
  },
  {
   "cell_type": "markdown",
   "metadata": {},
   "source": [
    "First, to evaluate our fairness, we computed the difference between the RMSEs for the groups targeted vs nontargeted (ads directed at all regions versus less)."
   ]
  },
  {
   "cell_type": "code",
   "execution_count": 41,
   "metadata": {},
   "outputs": [],
   "source": [
    "from sklearn import metrics"
   ]
  },
  {
   "cell_type": "code",
   "execution_count": 42,
   "metadata": {},
   "outputs": [],
   "source": [
    "imp = df.copy()"
   ]
  },
  {
   "cell_type": "code",
   "execution_count": 43,
   "metadata": {},
   "outputs": [
    {
     "data": {
      "text/html": [
       "<div>\n",
       "<style scoped>\n",
       "    .dataframe tbody tr th:only-of-type {\n",
       "        vertical-align: middle;\n",
       "    }\n",
       "\n",
       "    .dataframe tbody tr th {\n",
       "        vertical-align: top;\n",
       "    }\n",
       "\n",
       "    .dataframe thead th {\n",
       "        text-align: right;\n",
       "    }\n",
       "</style>\n",
       "<table border=\"1\" class=\"dataframe\">\n",
       "  <thead>\n",
       "    <tr style=\"text-align: right;\">\n",
       "      <th></th>\n",
       "      <th>Prediction</th>\n",
       "    </tr>\n",
       "    <tr>\n",
       "      <th>Targeted</th>\n",
       "      <th></th>\n",
       "    </tr>\n",
       "  </thead>\n",
       "  <tbody>\n",
       "    <tr>\n",
       "      <th>False</th>\n",
       "      <td>722964.043115</td>\n",
       "    </tr>\n",
       "    <tr>\n",
       "      <th>True</th>\n",
       "      <td>321230.452675</td>\n",
       "    </tr>\n",
       "  </tbody>\n",
       "</table>\n",
       "</div>"
      ],
      "text/plain": [
       "             Prediction\n",
       "Targeted               \n",
       "False     722964.043115\n",
       "True      321230.452675"
      ]
     },
     "execution_count": 43,
     "metadata": {},
     "output_type": "execute_result"
    }
   ],
   "source": [
    "imp['Prediction'] = pl.predict(X)\n",
    "imp[\"Targeted\"] = imp[\"RegionID\"] != \"All\"\n",
    "imp.groupby('Targeted').Prediction.mean().to_frame()"
   ]
  },
  {
   "cell_type": "code",
   "execution_count": 44,
   "metadata": {},
   "outputs": [],
   "source": [
    "imp[\"Diff\"] = (imp[\"Impressions\"]-imp[\"Prediction\"])**2\n",
    "obser = np.sqrt(imp.groupby('Targeted').Diff.mean()).diff().iloc[-1]"
   ]
  },
  {
   "cell_type": "code",
   "execution_count": 45,
   "metadata": {},
   "outputs": [],
   "source": [
    "diff = []\n",
    "for _ in range(100):\n",
    "    s = (\n",
    "        imp[['Targeted', 'Prediction', 'Impressions']]\n",
    "        .assign(Targeted=imp.Targeted.sample(frac=1.0, replace=False).reset_index(drop=True))\n",
    "        .groupby('Targeted')\n",
    "        .apply(lambda x: np.sqrt(((x[\"Impressions\"]-x[\"Prediction\"])**2).mean()))\n",
    "        .diff()\n",
    "        .iloc[-1]\n",
    "    )\n",
    "    \n",
    "    diff.append(s)"
   ]
  },
  {
   "cell_type": "code",
   "execution_count": 46,
   "metadata": {},
   "outputs": [
    {
     "name": "stdout",
     "output_type": "stream",
     "text": [
      "0.0\n"
     ]
    },
    {
     "data": {
      "image/png": "[encoded data removed]",
      "text/plain": [
       "<Figure size 432x288 with 1 Axes>"
      ]
     },
     "metadata": {
      "image/png": {
       "height": 263,
       "width": 446
      },
      "needs_background": "light"
     },
     "output_type": "display_data"
    }
   ],
   "source": [
    "print(pd.Series(diff <= obser).mean())\n",
    "pd.Series(diff).plot(kind='hist', title='Permutation Test for RMSE across Targeted/Not Targeted Adversiments')\n",
    "plt.scatter(obser, 0, c='r');"
   ]
  },
  {
   "cell_type": "code",
   "execution_count": null,
   "metadata": {},
   "outputs": [],
   "source": []
  },
  {
   "cell_type": "markdown",
   "metadata": {},
   "source": [
    "Wow! It looks like targeted does get less impressions than non targeted ads, which is what was expected. \n",
    "\n",
    "Next, we can categorize impressions that are higher than the median to be viral (1) and those lower to be not viral (0)."
   ]
  },
  {
   "cell_type": "code",
   "execution_count": 47,
   "metadata": {},
   "outputs": [],
   "source": [
    "parity = df.copy()\n",
    "parity[\"Targeted\"] = parity[\"RegionID\"] != \"All\"\n",
    "parity['Targeted'] = parity[\"Targeted\"].replace({True:'targeted', False:'not targeted'})\n",
    "parity['Prediction'] = pl.predict(X)"
   ]
  },
  {
   "cell_type": "code",
   "execution_count": 48,
   "metadata": {},
   "outputs": [
    {
     "data": {
      "text/plain": [
       "69669.0"
      ]
     },
     "execution_count": 48,
     "metadata": {},
     "output_type": "execute_result"
    }
   ],
   "source": [
    "df[\"Impressions\"].median()"
   ]
  },
  {
   "cell_type": "code",
   "execution_count": 49,
   "metadata": {},
   "outputs": [
    {
     "data": {
      "text/html": [
       "<div>\n",
       "<style scoped>\n",
       "    .dataframe tbody tr th:only-of-type {\n",
       "        vertical-align: middle;\n",
       "    }\n",
       "\n",
       "    .dataframe tbody tr th {\n",
       "        vertical-align: top;\n",
       "    }\n",
       "\n",
       "    .dataframe thead th {\n",
       "        text-align: right;\n",
       "    }\n",
       "</style>\n",
       "<table border=\"1\" class=\"dataframe\">\n",
       "  <thead>\n",
       "    <tr style=\"text-align: right;\">\n",
       "      <th></th>\n",
       "      <th>Prediction</th>\n",
       "    </tr>\n",
       "    <tr>\n",
       "      <th>Targeted</th>\n",
       "      <th></th>\n",
       "    </tr>\n",
       "  </thead>\n",
       "  <tbody>\n",
       "    <tr>\n",
       "      <th>not targeted</th>\n",
       "      <td>0.531195</td>\n",
       "    </tr>\n",
       "    <tr>\n",
       "      <th>targeted</th>\n",
       "      <td>0.453266</td>\n",
       "    </tr>\n",
       "  </tbody>\n",
       "</table>\n",
       "</div>"
      ],
      "text/plain": [
       "              Prediction\n",
       "Targeted                \n",
       "not targeted    0.531195\n",
       "targeted        0.453266"
      ]
     },
     "execution_count": 49,
     "metadata": {},
     "output_type": "execute_result"
    }
   ],
   "source": [
    "parity['Prediction'] = (parity['Prediction'] > 69669)\n",
    "parity['Impressions'] = (parity['Impressions'] > 69669)\n",
    "parity.groupby('Targeted').Prediction.mean().to_frame()"
   ]
  },
  {
   "cell_type": "code",
   "execution_count": 50,
   "metadata": {},
   "outputs": [
    {
     "data": {
      "text/html": [
       "<div>\n",
       "<style scoped>\n",
       "    .dataframe tbody tr th:only-of-type {\n",
       "        vertical-align: middle;\n",
       "    }\n",
       "\n",
       "    .dataframe tbody tr th {\n",
       "        vertical-align: top;\n",
       "    }\n",
       "\n",
       "    .dataframe thead th {\n",
       "        text-align: right;\n",
       "    }\n",
       "</style>\n",
       "<table border=\"1\" class=\"dataframe\">\n",
       "  <thead>\n",
       "    <tr style=\"text-align: right;\">\n",
       "      <th></th>\n",
       "      <th>accuracy</th>\n",
       "    </tr>\n",
       "    <tr>\n",
       "      <th>Targeted</th>\n",
       "      <th></th>\n",
       "    </tr>\n",
       "  </thead>\n",
       "  <tbody>\n",
       "    <tr>\n",
       "      <th>not targeted</th>\n",
       "      <td>0.969244</td>\n",
       "    </tr>\n",
       "    <tr>\n",
       "      <th>targeted</th>\n",
       "      <td>0.964824</td>\n",
       "    </tr>\n",
       "  </tbody>\n",
       "</table>\n",
       "</div>"
      ],
      "text/plain": [
       "              accuracy\n",
       "Targeted              \n",
       "not targeted  0.969244\n",
       "targeted      0.964824"
      ]
     },
     "execution_count": 50,
     "metadata": {},
     "output_type": "execute_result"
    }
   ],
   "source": [
    "(\n",
    "    parity\n",
    "    .groupby('Targeted')\n",
    "    .apply(lambda x: metrics.accuracy_score(x.Impressions, x.Prediction))\n",
    "    .rename('accuracy')\n",
    "    .to_frame()\n",
    ")"
   ]
  },
  {
   "cell_type": "code",
   "execution_count": null,
   "metadata": {},
   "outputs": [],
   "source": []
  },
  {
   "cell_type": "markdown",
   "metadata": {},
   "source": [
    "Wow! This is better observation than expected!"
   ]
  },
  {
   "cell_type": "code",
   "execution_count": 51,
   "metadata": {},
   "outputs": [],
   "source": [
    "obs = parity.groupby('Targeted').apply(lambda x: metrics.accuracy_score(x.Impressions, x.Prediction)).diff().iloc[-1]\n",
    "\n",
    "metrs = []\n",
    "for _ in range(100):\n",
    "    s = (\n",
    "        parity[['Targeted', 'Prediction', 'Impressions']]\n",
    "        .assign(Targeted=parity.Targeted.sample(frac=1.0, replace=False).reset_index(drop=True))\n",
    "        .groupby('Targeted')\n",
    "        .apply(lambda x: metrics.accuracy_score(x.Impressions, x.Prediction))\n",
    "        .diff()\n",
    "        .iloc[-1]\n",
    "    )\n",
    "    \n",
    "    metrs.append(s)"
   ]
  },
  {
   "cell_type": "code",
   "execution_count": 52,
   "metadata": {},
   "outputs": [
    {
     "name": "stdout",
     "output_type": "stream",
     "text": [
      "0.23\n"
     ]
    },
    {
     "data": {
      "image/png": "[encoded data removed]",
      "text/plain": [
       "<Figure size 432x288 with 1 Axes>"
      ]
     },
     "metadata": {
      "image/png": {
       "height": 263,
       "width": 497
      },
      "needs_background": "light"
     },
     "output_type": "display_data"
    }
   ],
   "source": [
    "print(pd.Series(metrs <= obs).mean())\n",
    "pd.Series(metrs).plot(kind='hist', title='Permutation Test for Virality scores across Targeted/Not Targeted Adversiments')\n",
    "plt.scatter(obs, 0, c='r');"
   ]
  },
  {
   "cell_type": "code",
   "execution_count": null,
   "metadata": {},
   "outputs": [],
   "source": []
  },
  {
   "cell_type": "code",
   "execution_count": null,
   "metadata": {},
   "outputs": [],
   "source": []
  }
 ],
 "metadata": {
  "kernelspec": {
   "display_name": "Python 3",
   "language": "python",
   "name": "python3"
  },
  "language_info": {
   "codemirror_mode": {
    "name": "ipython",
    "version": 3
   },
   "file_extension": ".py",
   "mimetype": "text/x-python",
   "name": "python",
   "nbconvert_exporter": "python",
   "pygments_lexer": "ipython3",
   "version": "3.7.3"
  }
 },
 "nbformat": 4,
 "nbformat_minor": 2
}
